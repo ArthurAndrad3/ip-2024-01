{
  "cells": [
    {
      "cell_type": "code",
      "source": [],
      "metadata": {
        "id": "P5UHcYpZJegn"
      },
      "execution_count": null,
      "outputs": []
    },
    {
      "cell_type": "markdown",
      "source": [
        "Questão 1\n",
        "\n",
        "Ler: nota1, nota2, nota3\n",
        "\n",
        "Media = (nota1+nota2+nota3)/3\n",
        "\n",
        "media com 2 casas decimais\n",
        "\n",
        "Mostrar: Média=\"valor da Media\"\n",
        "\n",
        "Se média > 6, Mostrar: \"Aprovado\", se não, Reprovado\n",
        "\n"
      ],
      "metadata": {
        "id": "mW3PREOiJxSQ"
      }
    },
    {
      "cell_type": "markdown",
      "source": [
        "Questão 2\n",
        "\n",
        "Ler: Numero de testes, Quantidade total de ingressos, %Popular, %Geral, %Arquibancada, %Cadeira\n",
        "\n",
        "Numero de vezes rodados = 0\n",
        "\n",
        "Codigo é rodado (Numero de vezes rodados=Numero de vezes rodados + 1)\n",
        "\n",
        "Se Numero de vezes rodados = Numero de testes não rodar codigo\n",
        "\n",
        "Renda do jogo =  %Popular + %Geral*5 + %Arquibancada*10 + %Cadeira* 20\n",
        "\n",
        "Mostrar: Renda total do teste numero \"Numero de vezes rodados\" = 'Renda do jogo correspondente'\n",
        "\n"
      ],
      "metadata": {
        "id": "QtswLdD0L8GM"
      }
    },
    {
      "cell_type": "markdown",
      "source": [
        "Questão 3\n",
        "\n",
        "Ler: N1, N2, N3\n",
        "\n",
        "N1,N2,N3 não podem ter 2 algoismos\n",
        "\n",
        "Concatenação = N1*100+N2*10+N3\n",
        "\n",
        "Quadrado = Concatenação * Concatenação\n",
        "\n",
        "Mostrar: Concatenação, quadrado\n",
        "\n",
        "Se N1,N2 ou N3 não Corresponder a condição => mostrar: Digito Invalido"
      ],
      "metadata": {
        "id": "fIHdDSTaOibk"
      }
    },
    {
      "cell_type": "markdown",
      "source": [
        "Questão 4\n",
        "\n",
        "Ler: Salario Minimo, Quantide de Kw gasta\n",
        "\n",
        "Custo por Kw = 0,007*Salario Minimo\n",
        "\n",
        "Custo do Consumo = Quantide de Kw gasta * Custo por Kw\n",
        "\n",
        "Valor Com desconto: Custo do Consumo*0,9\n",
        "\n",
        "Mostrar: {Custo por kW: \"Custo por Kw\"\n",
        "\n",
        "Custo do consumo: \"Custo do Consumo\"\n",
        "\n",
        "Custo com desconto: Valor Com desconto}\n",
        "\n"
      ],
      "metadata": {
        "id": "V0Gw8TyVPuXf"
      }
    },
    {
      "cell_type": "markdown",
      "source": [
        "Questâo 5\n",
        "\n",
        "Ler: Conta, Gasto/m³, Tipo de consumidor\n",
        "\n",
        "Se Tipo de consumidor = R => Valor da conta = 5 + 0,05*Gasto/m³\n",
        "\n",
        "Se Tipo de consumidor = C => Valor da conta = 500 + (Gasto/m³-80) * 0,25\n",
        "\n",
        "Se Tipo de consumidor = I => Valor da conta = 800 + (Gasto/m³-100) * 0,04\n",
        "\n",
        "Mostrar: Conta: \"Conta\"\n",
        "\n",
        "Valor: \"Valor da conta\""
      ],
      "metadata": {
        "id": "C01jMqLmRDjj"
      }
    },
    {
      "cell_type": "markdown",
      "source": [
        "Questão 6\n",
        "\n",
        "Ler: N de temperaturas, Temperatura (pelo numero de \"N de temperaturas\")\n",
        "\n",
        "Tc=(5*(Temperatura - 32))/9\n",
        "\n",
        "Realiza o calculo para N de temperaturas\n",
        "\n",
        "Mostrar: Temperatura FAHRENHEIT EQUIVALE A Tc CELSIUS (pelo numero de \"N de temperaturas\")\n",
        "\n",
        "\n",
        "\n"
      ],
      "metadata": {
        "id": "8Duqc3y0VhFD"
      }
    },
    {
      "cell_type": "markdown",
      "source": [
        "Questão 7\n",
        "\n",
        "Definir F, P, C, mm\n",
        "\n",
        "ler: F, P\n",
        "\n",
        "C=(5*(F - 32))/9\n",
        "\n",
        "mm = P*25.4\n",
        "\n",
        "Mostrar: O VALOR EM CELSIUS = \"C\"\n",
        "\n",
        "A QUANTIDADE DE CHUVA E = \"mm\""
      ],
      "metadata": {
        "id": "ghYP0inZWiDu"
      }
    },
    {
      "cell_type": "markdown",
      "source": [
        "Questão 8\n",
        "\n",
        "definir: R, L, Ac, Al, At, C\n",
        "\n",
        "Ler: R, H\n",
        "\n",
        "Ac = 3.14159 * R^2\n",
        "\n",
        "Al = 2 * 3.14159 * R * L\n",
        "\n",
        "At = 2 * Ac + Al\n",
        "\n",
        "C = At * 100\n",
        "\n",
        "Mostrar: O VALOR DO CUSTO E = \"C\""
      ],
      "metadata": {
        "id": "wE2vvbYYL1Q7"
      }
    },
    {
      "cell_type": "markdown",
      "source": [
        "Questão 9\n",
        "\n",
        "Definir: A, B, C, Delta\n",
        "\n",
        "Ler: A, B, C\n",
        "\n",
        "Delta = B^2 - 4 * A * C\n",
        "\n",
        "Mostrar: O VALOR DE DELTA E = \"Delta\""
      ],
      "metadata": {
        "id": "JpI1Mt9BNcr6"
      }
    },
    {
      "cell_type": "markdown",
      "source": [
        "Questão 10\n",
        "\n",
        "Definir: a, b, c, d, determinante\n",
        "\n",
        "Ler: a, b, c, d\n",
        "\n",
        "Determinante = a * d - b * c\n",
        "\n",
        "Mostrar: O VALOR DO DETERMINANTE E = 'determinante\""
      ],
      "metadata": {
        "id": "ic9-g8XXN-l0"
      }
    },
    {
      "cell_type": "markdown",
      "source": [
        "Questão 11\n",
        "\n",
        "Definir: número inteiro\n",
        "\n",
        "Ler: número inteiro\n",
        "\n",
        "Se resto número inteiro/3 ou número inteiro/5 == 0 :\n",
        "\n",
        "Mostrar: O NUMERO E DIVISIVEL\n",
        "\n",
        "Ou:\n",
        "\n",
        "Mostrar: O NUMERO NAO E DIVISIVEL"
      ],
      "metadata": {
        "id": "heKIcTS5O0XY"
      }
    },
    {
      "cell_type": "markdown",
      "source": [
        "Questão 12\n",
        "\n",
        "Definir: T, V, V1, V2\n",
        "\n",
        "V1 = T * 10 / 3 (parte inteira da divisão por 3)\n",
        "\n",
        "V2 = T % 3 * 5 (resto da divisão por 3 multiplicado por 5)\n",
        "\n",
        "V = V1 + V2\n",
        "\n",
        "Mostrar: O VALOR A PAGAR E = V\n",
        "\n"
      ],
      "metadata": {
        "id": "_v0moqRwPgze"
      }
    },
    {
      "cell_type": "markdown",
      "source": [
        "Questão 13\n",
        "\n",
        "Definir: nota, conceito\n",
        "\n",
        "Ler: nota\n",
        "\n",
        "Se nota estiver no intervalo (9.0, 10): conceito = \"A\"\n",
        "\n",
        "Senão, se nota estiver no intervalo (7.5, 9.0): conceito = \"B\"\n",
        "\n",
        "Senão, se nota estiver no intervalo (6.0, 7.5): conceito = \"C\"\n",
        "\n",
        "Senão: conceito = \"D\"\n",
        "\n",
        "Mostrar: NOTA = nota CONCEITO = conceito"
      ],
      "metadata": {
        "id": "X32Sz-amQftT"
      }
    },
    {
      "cell_type": "markdown",
      "source": [
        "Questão 14\n",
        "\n",
        "Definir: h, a, V, Ab\n",
        "\n",
        "Ler: h, a\n",
        "\n",
        "Ab = (3 * a^2 * sqrt(3)) / 2\n",
        "\n",
        "V = (1/3) * Ab * h\n",
        "\n",
        "Mostrar: O VOLUME DA PIRAMIDE E = V"
      ],
      "metadata": {
        "id": "u6GoRa9NQs7h"
      }
    },
    {
      "cell_type": "markdown",
      "source": [
        "Questão 15\n",
        "\n",
        "Definir: N (valor inteiro), par (número par) par2\n",
        "\n",
        "Ler: N\n",
        "\n",
        "para par < N e par/2 resto == 0{\n",
        "\n",
        "par2 = par^2\n",
        "\n",
        "Mostrar: par^2 = par2}"
      ],
      "metadata": {
        "id": "szH_odWsRZtF"
      }
    },
    {
      "cell_type": "markdown",
      "source": [
        "Questão 16\n",
        "\n",
        "Definir: salario , salario_reajustado\n",
        "\n",
        "Ler: salario\n",
        "\n",
        "Se salario <= 300.00:\n",
        "\n",
        "salario_reajustado = salario * 1.5\n",
        "\n",
        "Senão:\n",
        "\n",
        "salario_reajustado = salario * 1.3\n",
        "\n",
        "Mostrar: SALARIO COM REAJUSTE = salario_reajustado"
      ],
      "metadata": {
        "id": "UkxKqwUKSqAY"
      }
    },
    {
      "cell_type": "markdown",
      "source": [
        "Questão 17\n",
        "\n",
        "Definir: x, y, par\n",
        "\n",
        "Ler: x, y\n",
        "\n",
        "Se x/2 resto == 0:\n",
        "\n",
        "Iniciar um loop de y iterações:\n",
        "\n",
        "Mostrar: par\n",
        "\n",
        "par = par + 2\n",
        "\n",
        "Senão:\n",
        "\n",
        "Mostrar: O PRIMEIRO NUMERO NAO E PAR"
      ],
      "metadata": {
        "id": "qB0xSKYsSxrb"
      }
    },
    {
      "cell_type": "markdown",
      "source": [
        "Questão 18\n",
        "Definir: a1 , r, n, soma, i\n",
        "\n",
        "Ler: a1, r, n\n",
        "\n",
        "Inicializar = 0\n",
        "\n",
        " Para i< n {\n",
        "i = 0\n",
        "\n",
        "i = i + 1\n",
        "\n",
        "Soma = soma + a1 + (i - 1) * r }\n",
        "\n",
        "Mostrar: soma"
      ],
      "metadata": {
        "id": "eO_NW6htTXtV"
      }
    },
    {
      "cell_type": "markdown",
      "source": [
        "Questão 19\n",
        "\n",
        "Definir: n, S, i\n",
        "\n",
        "Ler: n\n",
        "\n",
        "Se n < 1 mostrar: \"Numero invalido!\"\n",
        "\n",
        "Se não: K < n{\n",
        "\n",
        "  k = 0\n",
        "\n",
        " k = k + 1\n",
        "\n",
        "S = 0.\n",
        "\n",
        "S = S + 1/K\n",
        "}\n",
        "\n",
        "Mostrar: S"
      ],
      "metadata": {
        "id": "oendX41eUS01"
      }
    },
    {
      "cell_type": "markdown",
      "source": [
        "Questão 20\n",
        "\n",
        "Definir: horas, minutos, segundos, total_segundos\n",
        "\n",
        "Ler: horas, minutos, segundos\n",
        "\n",
        "total_segundos = horas * 3600 + minutos * 60 + segundos\n",
        "\n",
        "Mostrar: O TEMPO EM SEGUNDOS E =\"total_segundos\""
      ],
      "metadata": {
        "id": "j9sglkj9VM3I"
      }
    }
  ],
  "metadata": {
    "colab": {
      "provenance": []
    },
    "kernelspec": {
      "display_name": "Python 3",
      "name": "python3"
    }
  },
  "nbformat": 4,
  "nbformat_minor": 0
}